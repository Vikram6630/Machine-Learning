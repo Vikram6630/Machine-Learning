{
 "cells": [
  {
   "cell_type": "code",
   "execution_count": 2,
   "id": "5a593708",
   "metadata": {},
   "outputs": [
    {
     "name": "stdout",
     "output_type": "stream",
     "text": [
      "sorted list [19, 19, 20, 22, 24, 24, 24, 25, 25, 26]\n",
      "Minimum age is 19 and Maximum age 26\n",
      "Sum of min age and the max age  45\n",
      "Median  24\n",
      "Average  24.82\n",
      "range of ages list is 26\n"
     ]
    }
   ],
   "source": [
    "import math\n",
    "ages=[19, 22, 19, 24, 20, 25, 26, 24, 25, 24]  # assigning ages to the list named ages\n",
    "ages.sort() # sorting the ages using the predefined method called sort()\n",
    "print(\"sorted list\",ages)\n",
    "print(\"Minimum age is\",ages[0],\"and Maximum age\",ages[-1])\n",
    "sum_min_max_age=ages[0]+ages[-1]\n",
    "ages.append(ages[0]+ages[-1]) # getting the valuesusing index ,and using append we are updating the agees list\n",
    "mid = len(ages) // 2 # finding middle index\n",
    "sum_age=0\n",
    "if len(ages)%2==0: \n",
    "    median=(ages[mid]+ages[~mid])/2 #if length is even ,dividing two middle items\n",
    "else:\n",
    "    median=ages[mid] # else middle index values will be median\n",
    "for age in ages: #looping through every value in list and adding them together\n",
    "    sum_age=sum_age+age\n",
    "average=round(sum_age/len(ages),2)\n",
    "print(\"Sum of min age and the max age \",sum_min_max_age)\n",
    "print(\"Median \", median)\n",
    "print(\"Average \",average)\n",
    "print(\"range of ages list is\",ages[-1]-ages[0])\n"
   ]
  },
  {
   "cell_type": "code",
   "execution_count": 3,
   "id": "dc996737",
   "metadata": {},
   "outputs": [
    {
     "name": "stdout",
     "output_type": "stream",
     "text": [
      "{'Name': '', 'Color': '', 'Breed': '', 'Legs': '', 'Age': ''}\n",
      "{'first_name': 'Vikram Reddy', 'last_name': 'Settypalli', 'gender': 'male', 'age': 24, 'maritial_status': 'single', 'skills': ['Python', 'SQL'], 'country': 'inida', 'city': 'tirupathi', 'address': '10-34,Gkothapalli'}\n",
      "Length of the student 9\n",
      "student skills ['Python', 'SQL'] <class 'list'>\n",
      "keys dict_keys(['first_name', 'last_name', 'gender', 'age', 'maritial_status', 'skills', 'country', 'city', 'address'])\n",
      "values ['Vikram Reddy', 'Settypalli', 'male', 24, 'single', ['Python', 'SQL', 'C', 'API'], 'inida', 'tirupathi', '10-34,Gkothapalli']\n"
     ]
    }
   ],
   "source": [
    "dog=dict()\n",
    "dog={\"Name\":\"\",\"Color\":\"\",\"Breed\":\"\",\"Legs\":\"\",\"Age\":\"\"} #tuples are hashable objects and can be used as a key or value\n",
    "print(dog)\n",
    "#creating a dictonary called student_ and assigning keys and values\n",
    "student_={\"first_name\":\"Vikram Reddy\",\"last_name\":\"Settypalli\",\"gender\":\"male\",\"age\":24,\"maritial_status\":\"single\",\"skills\":[\"Python\",\"SQL\"],\"country\":\"inida\",\"city\":\"tirupathi\",\"address\":\"10-34,Gkothapalli\"}\n",
    "print(student_)\n",
    "print(\"Length of the student\",len(student_))#using len() to get length of the dictonary\n",
    "print(\"student skills\",student_[\"skills\"], type(student_[\"skills\"]))#geting the values of particular keys from dictionary \n",
    "student_[\"skills\"]=student_[\"skills\"]+[\"C\",\"API\"]#adding valuesto particular keys to dictionary by using the key\n",
    "print(\"keys\",student_.keys())#keys() return all the keys in a dictionary\n",
    "print(\"values\",list(student_.values()))#type conversion\n"
   ]
  },
  {
   "cell_type": "code",
   "execution_count": 4,
   "id": "585a083a",
   "metadata": {},
   "outputs": [
    {
     "name": "stdout",
     "output_type": "stream",
     "text": [
      "my siblings ('yoga', 'nithya', 'jagan', 'nikitha', 'sasikala', 'kiranmai')\n",
      "i have 6 siblings\n",
      "family members ('rajagopal', 'kusuma', 'yoga', 'nithya', 'jagan', 'nikitha', 'sasikala', 'kiranmai')\n"
     ]
    }
   ],
   "source": [
    "#creating a tuple and assigning values to it\n",
    "brothers=(\"yoga\",\"nithya\",\"jagan\")\n",
    "sisters=(\"nikitha\",\"sasikala\",\"kiranmai\")\n",
    "siblings=brothers+sisters #using + operator we can join two tuples\n",
    "print(\"my siblings\",siblings)\n",
    "print(\"i have\",len(siblings), \"siblings\")\n",
    "siblings=(\"rajagopal\",\"kusuma\")+siblings#adding new values to a tuple\n",
    "family_members=siblings\n",
    "print(\"family members\",family_members)"
   ]
  },
  {
   "cell_type": "code",
   "execution_count": 5,
   "id": "affceb1a",
   "metadata": {},
   "outputs": [
    {
     "name": "stdout",
     "output_type": "stream",
     "text": [
      "total it companies  7\n",
      "after adding new it company  {'Amazon', 'Facebook', 'Twitter', 'Oracle', 'IBM', 'Microsoft', 'Apple', 'Google'}\n",
      "after adding multiple it companies  {'Amazon', 'Apple', 'Paypal', 'Oracle', 'Facebook', 'Cognizant', 'Google', 'Twitter', 'IBM', 'Microsoft'}\n",
      "after removing one values  {'Amazon', 'Apple', 'Paypal', 'Oracle', 'Facebook', 'Google', 'Twitter', 'IBM', 'Microsoft'}\n",
      "remove methode raises an error when value does'nt exists where as discard methode does'nt raise an error\n",
      "A Union B  {19, 20, 22, 24, 25, 26, 27, 28}\n",
      "A Intersection B  {19, 20, 22, 24, 25, 26}\n",
      "is A is subset of B  True\n",
      "is A and B are disjoint sets  False\n",
      "the symmetric difference between A and B  {27, 28}\n",
      "converted age list to set  {19, 22, 24, 25, 26}\n",
      "difference between length of age list and length of age set is  3\n"
     ]
    }
   ],
   "source": [
    "it_companies = {'Facebook', 'Google', 'Microsoft', 'Apple', 'IBM', 'Oracle', 'Amazon'} # creating a set and assing values\n",
    "A = {19, 22, 24, 20, 25, 26}\n",
    "B = {19, 22, 20, 25, 26, 24, 28, 27}\n",
    "age = [22, 19, 24, 25, 26, 24, 25, 24]\n",
    "print(\"total it companies \",len(it_companies))#len() return the length of the set\n",
    "it_companies.add(\"Twitter\")#add() is used to add new values to the set\n",
    "print(\"after adding new it company \",it_companies)\n",
    "it_companies.update([\"Cognizant\",\"Paypal\"])#adding multiple values to the set using update\n",
    "print(\"after adding multiple it companies \",it_companies)\n",
    "it_companies.remove(\"Cognizant\")#remove() removes the value from set if the values exists else it throws error\n",
    "print(\"after removing one values \",it_companies)\n",
    "print(\"remove methode raises an error when value does'nt exists where as discard methode does'nt raise an error\")\n",
    "\n",
    "a_union_b=A.union(B)#union() operation joins two sets\n",
    "print(\"A Union B \",a_union_b)\n",
    "a_intersect_b=A.intersection(B)#intersection() returns the common date from two sets\n",
    "print(\"A Intersection B \",a_intersect_b)\n",
    "print(\"is A is subset of B \",A.issubset(B))#issubset() return boolean value weather b is subset of a or not\n",
    "print(\"is A and B are disjoint sets \",A.isdisjoint(B))#isdisjoint() return boolean value weather b is disjoint sets or not\n",
    "print(\"the symmetric difference between A and B \",A.symmetric_difference(B))\n",
    "#clear() used for deleting the set\n",
    "del A # del keyword will delete the set completely\n",
    "del B\n",
    "age_set=set(age)#type conversion from list ot set\n",
    "print(\"converted age list to set \",age_set)\n",
    "print(\"difference between length of age list and length of age set is \",len(age)-len(age_set))\n",
    "\n",
    "\n"
   ]
  },
  {
   "cell_type": "code",
   "execution_count": 6,
   "id": "77522974",
   "metadata": {},
   "outputs": [
    {
     "name": "stdout",
     "output_type": "stream",
     "text": [
      "enter radius7\n",
      "Area of Circle  153.86\n",
      "Circumference of circle  43.96\n"
     ]
    }
   ],
   "source": [
    "radius=int((input(\"enter radius\")))#input() allows dynamic input from the user\n",
    "_area_of_circle_=3.14*(radius**2)#using area of cirlce formula\n",
    "_circum_of_circle_=2*3.14*radius\n",
    "print(\"Area of Circle \",_area_of_circle_)\n",
    "print(\"Circumference of circle \",_circum_of_circle_)\n"
   ]
  },
  {
   "cell_type": "code",
   "execution_count": 7,
   "id": "dc9679b4",
   "metadata": {
    "scrolled": true
   },
   "outputs": [
    {
     "name": "stdout",
     "output_type": "stream",
     "text": [
      "No.of unique words are  10\n"
     ]
    }
   ],
   "source": [
    "sentance=\"I am a teacher and I love to inspire and teach people\"\n",
    "unique_letter=set(sentance.split())#Splits a string into a list where each word is a list item\n",
    "print(\"No.of unique words are \",len(unique_letter))"
   ]
  },
  {
   "cell_type": "code",
   "execution_count": 8,
   "id": "6adc20a4",
   "metadata": {},
   "outputs": [
    {
     "name": "stdout",
     "output_type": "stream",
     "text": [
      "Name\tAge\tCountry\tCity\n",
      "Vikram\t23\tInida\tTirupathi\n"
     ]
    }
   ],
   "source": [
    "print(\"Name\\tAge\\tCountry\\tCity\\nVikram\\t23\\tInida\\tTirupathi\")#using escape sequence \n"
   ]
  },
  {
   "cell_type": "code",
   "execution_count": 9,
   "id": "4ff7f393",
   "metadata": {},
   "outputs": [
    {
     "name": "stdout",
     "output_type": "stream",
     "text": [
      "The area of a circle with radius 10 is 314.0 meters square.\n"
     ]
    }
   ],
   "source": [
    "radius = 10\n",
    "area = 3.14 * radius ** 2\n",
    "print(\"The area of a circle with radius %s is %s meters square.\" %(radius,area))"
   ]
  },
  {
   "cell_type": "code",
   "execution_count": 10,
   "id": "f067740d",
   "metadata": {},
   "outputs": [
    {
     "name": "stdout",
     "output_type": "stream",
     "text": [
      "Enter no of students 4\n",
      "enter weight of 0 150\n",
      "enter weight of 1 155\n",
      "enter weight of 2 145\n",
      "enter weight of 3 148\n",
      "Weights in Lb [150, 155, 145, 148]\n",
      "Weights in Kg [68.04, 70.31, 65.77, 67.13]\n"
     ]
    }
   ],
   "source": [
    "no_of_students=int(input(\"Enter no of students \"))#reading input from the user\n",
    "#creating empty list\n",
    "weights_in_lbs=[]\n",
    "weights_in_kg=[]\n",
    "for stu in range(no_of_students):\n",
    "    weights_in_lbs.append(int(input(\"enter weight of \"+str(stu)+\" \")))#reading user input and appending to the list\n",
    "    weights_in_kg.append(round(weights_in_lbs[stu]*0.453592,2))#using mathmaticle operators coverting lbs to kg \n",
    "print(\"Weights in Lb\",weights_in_lbs)\n",
    "print(\"Weights in Kg\",weights_in_kg)\n"
   ]
  },
  {
   "cell_type": "code",
   "execution_count": null,
   "id": "76cfef11",
   "metadata": {},
   "outputs": [],
   "source": []
  },
  {
   "cell_type": "code",
   "execution_count": null,
   "id": "eb84dc6d",
   "metadata": {},
   "outputs": [],
   "source": [
    "\n"
   ]
  }
 ],
 "metadata": {
  "kernelspec": {
   "display_name": "Python 3 (ipykernel)",
   "language": "python",
   "name": "python3"
  },
  "language_info": {
   "codemirror_mode": {
    "name": "ipython",
    "version": 3
   },
   "file_extension": ".py",
   "mimetype": "text/x-python",
   "name": "python",
   "nbconvert_exporter": "python",
   "pygments_lexer": "ipython3",
   "version": "3.9.12"
  }
 },
 "nbformat": 4,
 "nbformat_minor": 5
}
